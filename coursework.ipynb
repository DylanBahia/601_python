{
 "cells": [
  {
   "cell_type": "markdown",
   "id": "70e1f10f-ffb4-4e95-8f49-ab88c260a881",
   "metadata": {},
   "source": [
    "# STOR-601 Introductory Python - Assessment"
   ]
  },
  {
   "cell_type": "markdown",
   "id": "bdf6abf8-c176-4b69-ac20-f2e27a73c954",
   "metadata": {},
   "source": [
    "## Overview"
   ]
  },
  {
   "cell_type": "markdown",
   "id": "69d011d6-08e6-4fc7-96e4-fa0ef1636e1d",
   "metadata": {},
   "source": [
    "This is the assessment for the STOR-601 Introductory Python Module.\n",
    "\n",
    "The submission date for this assessment is 05/02/2024. Your submission should be in the form of a jupyter notebook made available for download via your github account. Please send details of your github repository to [daniel grose](mailto:dan.grose@lancaster.ac.uk) by 09:00 on the submission date. Alternatively, send me an invite via github - my github name is __grosed__. \n",
    "\n",
    "The assessment is marked out of 100 and the scores assigned to each task are indicated in the task descriptions. \n",
    "\n",
    "A number of discretionary marks (10) have been reserved for rewarding the quality of your work. You can gain these marks by, for example, providing additional markup in your notebook to support your solutions to the tasks, using appropriate charts and tables to summarise your data, providing links to external references, providing simple tests for your functions, and so on. You may also choose to use additional material in support of your notebook, for example, files containing python source code. If this is the case, these materials must also be available from your github repository. Some of the discretionary marks might also be awarded for examples of particularly \"pythonesque\" code. To get an idea of what this means try executing \n",
    "\n",
    "```python\n",
    "import this\n",
    "```\n",
    "in a code cell.\n",
    "\n",
    "Please feel free to you use and extend any of the examples from the course notes and use resources available online where appropriate. However, it is important that your solution to Task 7 is your own work and reflects your own judgements as how to best implement the \"fundamental algorithm\" in python.  \n",
    "\n",
    "Before your results and feedback are returned you might be asked to have a short (approximately 5 minutes) individual online \"interview\" to discuss some aspects of your work. The outcome of this interview might impact on your overall individual score.\n"
   ]
  },
  {
   "cell_type": "code",
   "execution_count": 1,
   "id": "9feef4ee-71e6-4eb3-ae71-b2f4b740ca67",
   "metadata": {},
   "outputs": [
    {
     "name": "stdout",
     "output_type": "stream",
     "text": [
      "The Zen of Python, by Tim Peters\n",
      "\n",
      "Beautiful is better than ugly.\n",
      "Explicit is better than implicit.\n",
      "Simple is better than complex.\n",
      "Complex is better than complicated.\n",
      "Flat is better than nested.\n",
      "Sparse is better than dense.\n",
      "Readability counts.\n",
      "Special cases aren't special enough to break the rules.\n",
      "Although practicality beats purity.\n",
      "Errors should never pass silently.\n",
      "Unless explicitly silenced.\n",
      "In the face of ambiguity, refuse the temptation to guess.\n",
      "There should be one-- and preferably only one --obvious way to do it.\n",
      "Although that way may not be obvious at first unless you're Dutch.\n",
      "Now is better than never.\n",
      "Although never is often better than *right* now.\n",
      "If the implementation is hard to explain, it's a bad idea.\n",
      "If the implementation is easy to explain, it may be a good idea.\n",
      "Namespaces are one honking great idea -- let's do more of those!\n"
     ]
    }
   ],
   "source": [
    "import this"
   ]
  },
  {
   "cell_type": "markdown",
   "id": "ca767c5a-fc6f-463e-9589-8c0839d85fb5",
   "metadata": {},
   "source": [
    "## <u>Task 1</u>\n",
    "\n",
    "Read Lecture 1 of [Stable Marriage and Its Relation to Other Combinatorial Problems](https://ebookcentral.proquest.com/lib/lancaster/detail.action?docID=4908424) up to and including the fifth paragraph on page 4.\n",
    "\n",
    "For n men and n women, provide an upperbound for the maximum number of stable matchings ?\n",
    "\n",
    "__Marks__ [2]\n",
    "\n"
   ]
  },
  {
   "cell_type": "markdown",
   "id": "884059c3-13c4-4b0e-80bf-16cc75878d94",
   "metadata": {},
   "source": [
    "## <u>Solution</u>"
   ]
  },
  {
   "cell_type": "markdown",
   "id": "f9539262-b09a-4a96-8d45-2d33a9753bbd",
   "metadata": {},
   "source": [
    "We can give the men some arbitrary ordering. For the first man, there will be n different potential women he could marry. For each potential marriage for the first man, the second man will thus have (n-1) potential women he could marry, for no woman can marry more than one man simultaneously. For each man, there will be one fewer potential women he could marry than the man before him if we fix the marriages of the men before him. So if we continue this until the last man, fixing all the marriages before him, he will only have one potential woman to marry. Thus, the number of potential matchings is n*(n-1)\\*(n-2)*...\\*2\\*1 = n!. Since every stable matching is by definition a matching, there can be no more stable matchings than there are possible matchings. And since the number of possible matchings is n!, an upperbound for the maximum number of stable matchings is n!."
   ]
  },
  {
   "cell_type": "markdown",
   "id": "2d1dedbd-84e9-4a01-8608-31e9d3747c98",
   "metadata": {},
   "source": [
    "## <u>Task 2</u>\n",
    "\n",
    "Given the definitions on page 1 of [Stable Marriage and Its Relation to Other Combinatorial Problems](https://ebookcentral.proquest.com/lib/lancaster/detail.action?docID=4908424) consider the computatinal problem -\n",
    "\n",
    "__IS_STABLE__ - Given a pair of preference tables and a matching determine if the matching is stable.\n",
    "\n",
    "### Part a) \n",
    "Write a python program that solves the computational problem __IS_STABLE__.\n",
    "\n",
    "### Part b) \n",
    "Describe any data structures that you chose to use in __part b)__ and justify your choice.\n",
    "\n",
    "### Part c) \n",
    "Given n women (men) what is the computational complexity of your solution to __part b)__ ?\n",
    "\n",
    "**Note** - If you are unsure about how to determine the computational complexity of an algorithm/program using asymptotic analysis read [Cormen et al](https://ebookcentral.proquest.com/lib/lancaster/detail.action?docID=6925615&pq-origsite=primo) sections 3.1 and 3.2.   \n",
    "\n",
    "__Marks__ [10]"
   ]
  },
  {
   "cell_type": "markdown",
   "id": "18587539-2ac9-407f-b440-8013585aa36b",
   "metadata": {},
   "source": [
    "## <u>Solution</u>"
   ]
  },
  {
   "cell_type": "markdown",
   "id": "a9daa096-f13b-4589-9850-af129a32a619",
   "metadata": {},
   "source": [
    "### Part a)"
   ]
  },
  {
   "cell_type": "markdown",
   "id": "bc495ad3-e546-4c87-b839-bd7950a1e77e",
   "metadata": {},
   "source": [
    "First we need to determine the format of the data concerning the preferences of each man and woman. For this we will use two dictionaries; in the first, each key will be the name of a man and the corresponding value will contain an ordered list of said man's preferences. There will be an item in the dictionary for each man. The second dictionary has the equivalent structure of the first, with the keys corresponding to women and values corresponding to their preferences. We will justify this choice of structure in Part b.\n",
    "\n",
    "We can express the example data found in Example 1 in Lecture 1 of [Stable Marriage and Its Relation to Other Combinatorial Problems](https://ebookcentral.proquest.com/lib/lancaster/detail.action?docID=4908424) in this format. To make this easier, we can create a function which builds a dictionary."
   ]
  },
  {
   "cell_type": "code",
   "execution_count": 2,
   "id": "e32da88a-18a6-4922-9ab4-c110aae42d47",
   "metadata": {},
   "outputs": [],
   "source": [
    "import re"
   ]
  },
  {
   "cell_type": "code",
   "execution_count": 3,
   "id": "c0a3d12f-64b5-43c3-855f-6c7ed8b28c8b",
   "metadata": {},
   "outputs": [],
   "source": [
    "#This function takes a string and splits it up into multiple strings, with the splits occuring wherever there is a space.\n",
    "#It then returns a dictionary where the keys are the first elements of each sub-string, and the values are the corresponding remainders of each sub-string which have been split into a list.\n",
    "def dictbuild(data: str) -> dict:\n",
    "    #re.split(\"\\s\",data\") splits the input at each space.\n",
    "    #re.findall(\"\\w\",item[1:]) creates a list where each element is a character of the string contained in item[1:], preserving order.\n",
    "    return dict([(item[0],re.findall(\"\\w\",item[1:])) for item in re.split(\"\\s\",data)])"
   ]
  },
  {
   "cell_type": "code",
   "execution_count": 4,
   "id": "a2074c68-4ce1-4dd0-8af2-085a8e7a103b",
   "metadata": {},
   "outputs": [
    {
     "data": {
      "text/plain": [
       "{'A': ['c', 'b', 'd', 'a'],\n",
       " 'B': ['b', 'a', 'c', 'd'],\n",
       " 'C': ['b', 'd', 'a', 'c'],\n",
       " 'D': ['c', 'a', 'd', 'b']}"
      ]
     },
     "execution_count": 4,
     "metadata": {},
     "output_type": "execute_result"
    }
   ],
   "source": [
    "#men and their preferences.\n",
    "men = dictbuild(\"Acbda Bbacd Cbdac Dcadb\")\n",
    "men"
   ]
  },
  {
   "cell_type": "code",
   "execution_count": 5,
   "id": "7d6e88ce-b063-4c03-a3ba-849674204fa3",
   "metadata": {},
   "outputs": [
    {
     "data": {
      "text/plain": [
       "{'a': ['A', 'B', 'D', 'C'],\n",
       " 'b': ['C', 'A', 'D', 'B'],\n",
       " 'c': ['C', 'B', 'D', 'A'],\n",
       " 'd': ['B', 'A', 'C', 'D']}"
      ]
     },
     "execution_count": 5,
     "metadata": {},
     "output_type": "execute_result"
    }
   ],
   "source": [
    "#women and their preferences.\n",
    "women = dictbuild(\"aABDC bCADB cCBDA dBACD\")\n",
    "women"
   ]
  },
  {
   "cell_type": "markdown",
   "id": "d67dc078-afd3-4a30-a5bb-d9c3ac48c599",
   "metadata": {},
   "source": [
    "We also need to determine a format for the data concerning a proposed matching. For this we will use a list of tuples, where each tuple contains the data about a marriage. Each tuple will be of length 2, with the first element being the name of a man and the second element being the name of the woman to whom he is married in this proposed matching.\n",
    "\n",
    "We can create a function to build this list."
   ]
  },
  {
   "cell_type": "code",
   "execution_count": 6,
   "id": "ded420cf-a7de-46ab-a2f8-c8cce866c119",
   "metadata": {},
   "outputs": [],
   "source": [
    "#Akin to the dictbuild function, this function splits an inputted string into substrings, with the splits occuring wherever there is a space.\n",
    "#It then returns a dictionary of tuples, where the first elements of the tuples are the first elements of each sub-string, and the second elements of the tuples are the \n",
    "#corresponding second elements of each sub-string which have been split into a list.\n",
    "def matchbuild(data: str) -> list:\n",
    "    return [(item[0],item[1]) for item in re.split(\"\\s\",data)]"
   ]
  },
  {
   "cell_type": "code",
   "execution_count": 7,
   "id": "79bf1128-705b-46bc-9939-58dd5d6ff7b2",
   "metadata": {},
   "outputs": [
    {
     "data": {
      "text/plain": [
       "[('A', 'b'), ('B', 'a'), ('C', 'c'), ('D', 'd')]"
      ]
     },
     "execution_count": 7,
     "metadata": {},
     "output_type": "execute_result"
    }
   ],
   "source": [
    "#a proposed matching.\n",
    "matching = matchbuild(\"Ab Ba Cc Dd\")\n",
    "matching"
   ]
  },
  {
   "cell_type": "markdown",
   "id": "884de861-68ed-40fb-889a-dac2041d70b8",
   "metadata": {},
   "source": [
    "We present two functions which check if a matching is stable. Both functions perform the same algorithm in different ways. The algorithm for checking if a marriage is stable is the one described in page two of the book; for each man, we find the women he prefers to his current partner, and we then check if any of these women prefer the man to their current partners. If any mutual preference is found, the matching is unstable.\n",
    "\n",
    "In the first function, we take each marriage and find which women, if any, the man prefers to his current partner. For each womans he prefers, we check if they prefer the man to their current partner."
   ]
  },
  {
   "cell_type": "code",
   "execution_count": 8,
   "id": "57ddca90-fb23-41ec-891e-6202de943bfb",
   "metadata": {},
   "outputs": [],
   "source": [
    "def is_stable_one(men: dict, women: dict, matching: list) -> bool:\n",
    "    #iterates over each marriage.\n",
    "    for man,woman in matching:\n",
    "        #finds the ordered list of women that the man would prefer to marry, if any.\n",
    "        m_preferences = men[man][0:men[man].index(woman)]\n",
    "        #iterates over prospective women that the man would prefer to marry.\n",
    "        for pros_woman in m_preferences:\n",
    "            #finds current partner of prospective woman\n",
    "            curr_partner = [m for m,w in matching if w==pros_woman][0]\n",
    "            #if prospective woman prefers man to current parnter, marriage is found to be unstable.\n",
    "            if  women[pros_woman].index(man) < women[pros_woman].index(curr_partner):\n",
    "                return False\n",
    "    \n",
    "    #if no marriages have been found to be unstable, a stable matching has been found.\n",
    "    return True"
   ]
  },
  {
   "cell_type": "markdown",
   "id": "182cdc0a-9a2c-45f3-91af-fd75209bea23",
   "metadata": {},
   "source": [
    "In the second function, we produce two new dictionaries; one for the men and one for the women. For each individual, their respective dictionary contains a list of the people they prefer to their current partner, if any. We can then check if the matching is stable by iterating over each man, finding the list of women they prefer to their current partner, if any, and then checking if this man is in the list of preferences of these women. "
   ]
  },
  {
   "cell_type": "code",
   "execution_count": 9,
   "id": "a44d7fcf-f98c-4c4f-93eb-b57ca6f5fbe1",
   "metadata": {},
   "outputs": [],
   "source": [
    "def is_stable_two(men: dict, women: dict, matching: list) -> bool:\n",
    "    #for each man, finds the list of women he prefers to his current partner.\n",
    "    men_preferences = dict([(man,prefs[0:prefs.index([w for m,w in matching if m==man][0])]) for man,prefs in men.items()])\n",
    "    #for each woman, finds the list of men she prefers to her current parnter.\n",
    "    women_preferences = dict([(woman,prefs[0:prefs.index([m for m,w in matching if w==woman][0])]) for woman,prefs in women.items()])\n",
    "\n",
    "    #returns true if for each man, they are not prefered by a woman that he prefers; otherwise returns false.\n",
    "    return all([man not in women_preferences[woman] for man,prefs in men_preferences.items() for woman in prefs])"
   ]
  },
  {
   "cell_type": "markdown",
   "id": "15ff99be-37fa-46db-a8a0-4a6987431fdc",
   "metadata": {},
   "source": [
    "The difference between these functions is that in the first, when checking if a woman prefers the man to their current partner, we need to check the index of the man in their preference list and compare it to that of their current partner. The second function instead involves finding beforehand the list of men who each woman prefers to her current partner, and so to check if a woman prefers a man to her current partner, we need to check he is in her list. We will compare the computational complexity of these two function in Part C.\n",
    "\n",
    "Using examples from page two of the book, we can check if the algorithms correctly assess whether some matchings are stable."
   ]
  },
  {
   "cell_type": "code",
   "execution_count": 10,
   "id": "138aa417-dabd-496e-b9e2-11590321600a",
   "metadata": {},
   "outputs": [
    {
     "name": "stdout",
     "output_type": "stream",
     "text": [
      "False\n",
      "False \n",
      "\n",
      "False\n",
      "False \n",
      "\n",
      "False\n",
      "False \n",
      "\n",
      "True\n",
      "True\n"
     ]
    }
   ],
   "source": [
    "men = dictbuild(\"Acbda Bbacd Cbdac Dcadb\")\n",
    "women = dictbuild(\"aABDC bCADB cCBDA dBACD\")\n",
    "\n",
    "#checks if the propsed matching above is stable given the preferences above.\n",
    "print(is_stable_one(men,women,matchbuild(\"Aa Bb Cc Dd\")))\n",
    "print(is_stable_two(men,women,matchbuild(\"Aa Bb Cc Dd\")),\"\\n\")\n",
    "\n",
    "print(is_stable_one(men,women,matchbuild(\"Ab Ba Cc Dd\")))\n",
    "print(is_stable_two(men,women,matchbuild(\"Ab Ba Cc Dd\")),\"\\n\")\n",
    "\n",
    "print(is_stable_one(men,women,matchbuild(\"Ac Ba Cb Dd\")))\n",
    "print(is_stable_two(men,women,matchbuild(\"Ac Ba Cb Dd\")),\"\\n\")\n",
    "\n",
    "print(is_stable_one(men,women,matchbuild(\"Ad Ba Cb Dc\")))\n",
    "print(is_stable_two(men,women,matchbuild(\"Ad Ba Cb Dc\")))"
   ]
  },
  {
   "cell_type": "markdown",
   "id": "68c8a769-8ce4-4c13-bce7-8b4fbb339c84",
   "metadata": {},
   "source": [
    "### Part b)"
   ]
  },
  {
   "cell_type": "markdown",
   "id": "26865a95-497b-4259-b56f-fd9563f7b4a8",
   "metadata": {},
   "source": [
    "To store the information regarding the preferences for each man and woman, we used two dictionaries. The reason we created seperate dictionaries for the men and women instead of a sole dictionary is because we have already encountered a function for which we needed to iterate over the mens' preferences and womens' preferences seperately, and we anticipate more such circumstances occuring, thus using two dictionaries appears to be more appropriate.\n",
    "\n",
    "There are two reasons we chose to use dictionaries. Firstly, there is a natural key-value pairing with the individual and their preferences, and the dictionary format reflects the way in which we wish to access this information; we will have the name of an individual, and we wish to find their preferences. The second reason is that we will not always want to iterate through individuals and their preferences. For example, in the is_stable function, we wish to find the preferences of women in no particular order, it depends only on whether a woman is a potential partner for the current man in question. Thus, a dictionary appears to be more appropriate than a nested list.\n",
    "\n",
    "The reason that we chose to use lists to store the preferences is because a list is an ordered data structure, and we need to retain the order of the preferences.\n",
    "\n",
    "For the matchings, we used a list of tuples. The reason we used a list of tuples instead of a dictionary is that while we don't always want to iterate through the marriages, we do want to access the partner of both the men and the women. Thus if we wanted to use dictionaries, we would need each individual to be a key in a dictionary, making it natural to create a dictionary for the men and a dictionary for the women. However, since each matching is a one-to-one mapping between the set of men and set of women, these dictionaries would be recording the same information twice. If we use a list of tuples instead, we only need to record each marriage once to be able to access the partner of each and man and partner of each woman, therefore enabling us to capture the same information with half as much data.\n",
    "\n",
    "The reason we chose to use tuples to represent each marriage rather than lists is because it improves the clarity of our code. We know that each data structure representing a marriage will be of a fixed length of 2, since it always and only contains the name of a man and the name of a woman. We can also ensure that when we create the data structures, the first elements will always be the names of men and the second elements will always be the names of women. Thus, we can take advantage of this known size and ordering when accessing the elements of the data structure representing the marriage. Rather than using a list and accessing these elements via indexing, we can instead use a tuple and unpack the tuple, making the code more readable."
   ]
  },
  {
   "cell_type": "markdown",
   "id": "d73a75f7-6f0e-46c3-a0cf-bcedb2087f66",
   "metadata": {},
   "source": [
    "### Part c)"
   ]
  },
  {
   "cell_type": "markdown",
   "id": "92582c51-afec-4854-b276-6aeda274b534",
   "metadata": {},
   "source": [
    "We will first consider the computational complexity of the is_stable_one function. The outermost loop in the function iterates over all marriages. Since there are n marriages, this is O(n). Within this outermost loop, we first need to search for the position of the woman in the list of the man's preferences. This is O(n), as the data struture being searched through is a type of linked list. Within the outermost loop, there is another loop which iterates over the list of the man's preferences, of which there are potentially n-1, so this is bounded by n. Thus, this loop is O(n). This loop, in addition to the search of the position of the woman in the man's list, is O(n+n)=O(n). Thus, so far, the function is O(n*n)=O(n^2). Within this inner loop, we first iterate over the marriages to find the partner of the prospective women. Since there are n marriages, this is O(n). Next, within the 'if' statement, there are two index searches. Since the lists being searched through are both of length n, each of these searches is O(n). Thus, within the inner loop, the time complexity is O(n+n+n)=O(n). Putting everything together, the computational complexity of the function is O(n\\*n\\*n)=O(n^3).\n",
    "\n",
    "We will next consider the computational complexity of the is_stable_two function. The first line in the function iterates over all the men, of which there are n. For each man, the function searches through all the marriages and all the man's preferences. Both of these are bounded by n, thus the computational complexity of the first line is O(n*(n+n))=O(n^2). The second line of the function is the same as the first but for the women, therefore it is also O(n^2). The final line of the function iterates through all the men, of which there are n. For each man, it iterates through all the women in the man's reduced preference list, which is bounded by n. For each of these women, their reduced list of preferences is searched through, which is bounded by n. Thus, the computational complexity of this line is O(n\\*n*n)=O(n^3). Putting this all together, the computational complexity of the function is O(n^2+n^2+n^3)=O(n^3).\n",
    "\n",
    "These two functions have the same computational complexity, however they may perform differently in practice. We will compare the speed of these two functions for different input sizes in Task 6."
   ]
  },
  {
   "cell_type": "markdown",
   "id": "8b740aae-07a3-40d8-ad90-9f7722e96bb6",
   "metadata": {},
   "source": [
    "## <u>Task 3</u>\n",
    "\n",
    "Given the definitions on page 1 of [Stable Marriage and Its Relation to Other Combinatorial Problems](https://ebookcentral.proquest.com/lib/lancaster/detail.action?docID=4908424) consider the computational problem -\n",
    "\n",
    "__STABLE_MATCHINGS__ - Given a pair of preference tables find all stable matchings\n",
    "\n",
    "### Part a) \n",
    "Write a python program that solves the computational problem __STABLE__MATCHINGS__.\n",
    "\n",
    "### Part b) \n",
    "Describe any data structures that you chose to use in __part b)__ and justify your choice.\n",
    "\n",
    "### Part c) \n",
    "Given n women (men) what is the computational complexity of your solution to __part b)__ ?\n",
    "\n",
    "__Marks__ [15]\n"
   ]
  },
  {
   "cell_type": "markdown",
   "id": "f381333d-bede-4e21-aee2-feed0595377f",
   "metadata": {},
   "source": [
    "## <u>Solution</u>"
   ]
  },
  {
   "cell_type": "markdown",
   "id": "5cc7e0e1-23ce-4b3a-9ed9-17752c1f2522",
   "metadata": {},
   "source": [
    "### Part a)"
   ]
  },
  {
   "cell_type": "markdown",
   "id": "3ed01b2d-e6b9-447a-8db7-2cb588535b83",
   "metadata": {},
   "source": [
    "In order to find all stable matchings, we can produce a list of every possible matching and check which are stable. In order to create a list of every possible matching, we can imagine representing any given matching as a table. The table will have two columns, the first for the men and the second for the women, and each row will be a marriage. For example:\n",
    "\n",
    "A|d\\\n",
    "B|a\\\n",
    "C|c\\\n",
    "D|b\n",
    "\n",
    "If we fix the position of the men in this table, we can produce all the possible marriages by combining this column of men with every possible permutation of the women. Once we have all the possible marriages, we can use one of our is_stable functions to check which are stable. We will use the is_stable_one function, as we find in Task 6 that it performs better."
   ]
  },
  {
   "cell_type": "code",
   "execution_count": 11,
   "id": "2b29eb78-a000-40b2-8cb1-a3295ac6c1f4",
   "metadata": {},
   "outputs": [],
   "source": [
    "import itertools"
   ]
  },
  {
   "cell_type": "code",
   "execution_count": 12,
   "id": "ae23fb32-3be4-4600-8048-f0b783acff09",
   "metadata": {},
   "outputs": [],
   "source": [
    "#args enables additional named arguments to be passed to the function, though these will not alter the value which the function returns.\n",
    "#This will be useful when calling a list of functions and passing them the same arguments, regardless of how many they need.\n",
    "def stable_matchings(men: dict, women: dict,**kwargs) -> list:\n",
    "    #list of names of all the men.\n",
    "    m_names = [name for name in men.keys()]\n",
    "    #list of names of all the women.\n",
    "    w_names = [name for name in women.keys()]\n",
    "    #produces every permutation of the women.\n",
    "    wperms = itertools.permutations(w_names,len(w_names))\n",
    "    #produces every possible matching.\n",
    "    matchings = [list(zip(m_names,perm)) for perm in wperms]\n",
    "    #returns list of matchings which are stable.\n",
    "    return [matching for matching in matchings if is_stable_one(men,women,matching) == True]"
   ]
  },
  {
   "cell_type": "code",
   "execution_count": 13,
   "id": "826bfe8f-38e3-4924-a6c5-a5016b713388",
   "metadata": {},
   "outputs": [
    {
     "data": {
      "text/plain": [
       "[[('A', 'd'), ('B', 'a'), ('C', 'b'), ('D', 'c')]]"
      ]
     },
     "execution_count": 13,
     "metadata": {},
     "output_type": "execute_result"
    }
   ],
   "source": [
    "stable_matchings(men,women)"
   ]
  },
  {
   "cell_type": "code",
   "execution_count": 77,
   "id": "322cc2b9-24aa-4d7f-98bc-0f6895c738dd",
   "metadata": {},
   "outputs": [
    {
     "data": {
      "text/plain": [
       "[[('A', 'd'), ('B', 'a'), ('C', 'b'), ('D', 'c')]]"
      ]
     },
     "execution_count": 77,
     "metadata": {},
     "output_type": "execute_result"
    }
   ],
   "source": [
    "#adding additional named arguments does not change the output.\n",
    "stable_matchings(men,women,matching=matching,x=1)"
   ]
  },
  {
   "cell_type": "markdown",
   "id": "06e7e12a-69a6-4fef-a344-475bb107b7b7",
   "metadata": {},
   "source": [
    "### Part b)"
   ]
  },
  {
   "cell_type": "markdown",
   "id": "bd5da301-a972-4230-b032-89669078b86f",
   "metadata": {},
   "source": [
    "We stored the names of the men in a list because we wish for them to retain an order when we produce all our possible matchings. The names of women do not need to be ordered, so a set could have been used, but if we use a set it may appear as though this collection of womens' names is of a different nature to that of the mens' names, so we used the same data structure to make the code more readable. \n",
    "\n",
    "We stored all the possible matchings in a list as we wish to iterate over them, and a (linked) list is well suited for this purpose.\n",
    "\n",
    "We returned all the stable matchings in a list as they are a collection, and for the same reason as before we do not want to introduce new data structures for no benefit."
   ]
  },
  {
   "cell_type": "markdown",
   "id": "25116534-3336-4185-841b-fb297a29c914",
   "metadata": {},
   "source": [
    "### Part c)"
   ]
  },
  {
   "cell_type": "markdown",
   "id": "8156eca0-62f7-4bc6-8d7d-ef288a2c6f9b",
   "metadata": {},
   "source": [
    "The first two lines of the function extract the names of all the individuals. Since there are n men and n women, each of these two lines is O(n). However, the function could be ammended to take these names as an input if one preferred, which would remove these steps in the function. Next, all the permutations of the women as produced, of which there are n!, thus this step is O(n!). In the fourth line of the code, for each permutation of women, the function creates an iterator using the 'zip' function, which when iterated over by the 'list' function, produces a list of marriages represented as tuples. Since there are n marriages over which to iterate, this line of the function has computational complexity O(n*n!). The final line of the function iterates over each matching, of which there are n!, and for each matching, calls the is_stable_one function, which has computational complexity O(n^3). Thus, the line has computational complexity O(n^3\\*n!). Putting this all together, the function has computational complexity O(n+n+n!+n\\*n!+n^3\\*n!)=O(n^3\\*n!)."
   ]
  },
  {
   "cell_type": "markdown",
   "id": "af116ce7",
   "metadata": {},
   "source": [
    "## <u>Task 4</u>\n",
    "\n",
    "Write a python function which takes two lists of distinct and mutually disjoint symbols (of the same length) and which  produces a pair of random preference tables as output. \n",
    "\n",
    "You may find the following code example useful.\n",
    "\n",
    "```python\n",
    "import random\n",
    "random.sample(range(1,10),6)\n",
    "```\n",
    "\n",
    "__Marks__ [5]"
   ]
  },
  {
   "cell_type": "markdown",
   "id": "d4e61a7f-d762-4fdb-a24d-95c73825d717",
   "metadata": {},
   "source": [
    "## <u>Solution</u>"
   ]
  },
  {
   "cell_type": "code",
   "execution_count": 15,
   "id": "d15ca18f-f8e0-422a-a483-1c37ec9c501b",
   "metadata": {},
   "outputs": [],
   "source": [
    "import random"
   ]
  },
  {
   "cell_type": "code",
   "execution_count": 16,
   "id": "55848f30-e7e2-4cbc-bd59-e7f7d638c871",
   "metadata": {},
   "outputs": [],
   "source": [
    "def rand_pref_tables(m_names: list, w_names: list) -> tuple:\n",
    "    #creates a dictionary where each key is an element of the first inputted list, and each value is a list containing a random \n",
    "    #permutation of the second inputted list.\n",
    "    men = dict([(name,random.sample(w_names,len(w_names))) for name in m_names])\n",
    "    #creates a dictionary where each key is an element of the second inputted list, and each value is a list containing a random \n",
    "    #permutation of the first inputted list.\n",
    "    women = dict([(name,random.sample(m_names,len(m_names))) for name in w_names])\n",
    "\n",
    "    #returns both dictionaries as a tuple\n",
    "    return men,women"
   ]
  },
  {
   "cell_type": "code",
   "execution_count": 17,
   "id": "a002e677-e00b-40ec-9463-dffa4e750a72",
   "metadata": {},
   "outputs": [
    {
     "data": {
      "text/plain": [
       "({'A': ['d', 'a', 'c', 'b'],\n",
       "  'B': ['b', 'a', 'd', 'c'],\n",
       "  'C': ['b', 'd', 'a', 'c'],\n",
       "  'D': ['d', 'c', 'a', 'b']},\n",
       " {'a': ['B', 'D', 'C', 'A'],\n",
       "  'b': ['D', 'C', 'A', 'B'],\n",
       "  'c': ['C', 'A', 'D', 'B'],\n",
       "  'd': ['D', 'A', 'C', 'B']})"
      ]
     },
     "execution_count": 17,
     "metadata": {},
     "output_type": "execute_result"
    }
   ],
   "source": [
    "m_names = [name for name in men.keys()]\n",
    "w_names = [name for name in women.keys()]\n",
    "rand_pref_tables(m_names,w_names)"
   ]
  },
  {
   "cell_type": "markdown",
   "id": "7e858b04-556e-4c3e-843f-6feeadac061e",
   "metadata": {},
   "source": [
    "## <u>Task 5</u>\n",
    "\n",
    "Provide some supporting material that might improve the **Replicability** your solutions to **Task 2** and **Task 3**. You might want to look at this short [presentation](https://prezi.com/view/nf1JVpHcx5MldSibqCFs/) , particular the section on the 5Rs.\n",
    "\n",
    "__Marks__ [10]"
   ]
  },
  {
   "cell_type": "markdown",
   "id": "b14f388c-56a5-4505-ba78-dd321a2294ee",
   "metadata": {},
   "source": [
    "## <u>Solution</u>"
   ]
  },
  {
   "cell_type": "markdown",
   "id": "9e064a47-1ea3-46be-ba70-3eaf763246fa",
   "metadata": {},
   "source": [
    "To improve the replicability of our solutions to Task 2 and Task 3, we can give descriptions of the algorithms."
   ]
  },
  {
   "cell_type": "markdown",
   "id": "072360de-43a7-4c3a-9320-1885d980159b",
   "metadata": {},
   "source": [
    "To produce the is_stable_one function:\n",
    "\n",
    "0) Requires n men, n women, a compatible set of preference tables and a proposed matching.\n",
    "1) Let k = 1.\n",
    "2) While k<=n:\\\n",
    "   &nbsp;&nbsp;&nbsp;&nbsp;&nbsp;&nbsp;Let m_k and w_k be the respective man and women in the k^th marriage in the proposed matching.\\\n",
    "   &nbsp;&nbsp;&nbsp;&nbsp;&nbsp;&nbsp;Let m_preferences be the women that m_k would prefer to marry over w_k, if any.\\\n",
    "   &nbsp;&nbsp;&nbsp;&nbsp;&nbsp;&nbsp;If any women in m_preferences prefer m_k over their respective partners, the marriage is found to be unstable; go to step 3.\\\n",
    "   &nbsp;&nbsp;&nbsp;&nbsp;&nbsp;&nbsp;Set k = k+1.\n",
    "3) If no marriages were found to be unstable then the matching is stable. Otherwise the matching is unstable."
   ]
  },
  {
   "cell_type": "markdown",
   "id": "ab75c647-f066-456c-9287-3cc82adf90e3",
   "metadata": {},
   "source": [
    "To produce the is_stable_two function:\n",
    "\n",
    "0) Requires n men, n women, a compatible set of preference tables and a proposed matching.\n",
    "1) Produce a new set of preference tables, new_pref_tables, which contain the ordered list of people who each individual prefers to their current partner, if any.\n",
    "2) Let k = 1.\n",
    "3) While k<=n:\\\n",
    "   &nbsp;&nbsp;&nbsp;&nbsp;&nbsp;&nbsp;Let m_k and w_k be the respective man and woman in the k^th marriage.\\\n",
    "   &nbsp;&nbsp;&nbsp;&nbsp;&nbsp;&nbsp;Let m_preferences be the preference list for m_k found in new_pref_tables.\\\n",
    "   &nbsp;&nbsp;&nbsp;&nbsp;&nbsp;&nbsp;If m_k is found in any preferences lists in new_pref_tables for the women in m_preferences, the marriage is found to be unstable; go to step 3.\\\n",
    "   &nbsp;&nbsp;&nbsp;&nbsp;&nbsp;&nbsp;Set k = k+1.\n",
    "5) If no marriages were found to be unstable then the matching is stable. Otherwise the matching is unstable.\n",
    "       "
   ]
  },
  {
   "cell_type": "markdown",
   "id": "2b0f1c6c-e882-499b-8464-9c9a5a7bbae4",
   "metadata": {},
   "source": [
    "To produce the stable_matchings function:\n",
    "\n",
    "0) Requires n men, n women and a compatible set of preference tables.\n",
    "1) Generate all possible matchings.\n",
    "2) Find which of these matchings are stable using the is_stable function or otherwise."
   ]
  },
  {
   "cell_type": "markdown",
   "id": "df70a8c4-5350-4dec-9071-30e505bdefdd",
   "metadata": {},
   "source": [
    "## <u>Task 6</u>\n",
    "\n",
    "Use your solutions to __Task 4__ to determine how the execution time of your implementations of  __IS_STABLE__ and __STABLE_MATCHINGS__ varies with the size of the preference table. Is this relationship consistent with your expectations ? Justify your reasoning with reference to your implementation of the algorithm and your experimental observations.  \n",
    "\n",
    "You may find the following code example useful.\n",
    "\n",
    "``` python\n",
    "import time\n",
    "start = time.perf_counter()\n",
    "for i in range(1000000) :\n",
    "    x = 2\n",
    "end = time.perf_counter()   \n",
    "print(end-start)\n",
    "```\n",
    "\n",
    "__Marks__ [5]"
   ]
  },
  {
   "cell_type": "markdown",
   "id": "a5416373-9ade-4eef-b86d-846ff8dba5f2",
   "metadata": {},
   "source": [
    "## <u>Solution</u>"
   ]
  },
  {
   "cell_type": "markdown",
   "id": "3dbaa6ea-aba7-4e80-9342-c8ebb15ed2d5",
   "metadata": {},
   "source": [
    "In order to determine how the executution time varies with the size of the preference table, we can use the rand_pref_tables function to generate preference tables for different sized inputs. We can then run the stable_matchings, is_stable_one and is_stable_two function on these inputs and display our results in a table. In order to make the code more reusable, we can implement these steps using a series of functions."
   ]
  },
  {
   "cell_type": "code",
   "execution_count": 18,
   "id": "1f5930a8-33a3-4add-94bc-8016d0423982",
   "metadata": {},
   "outputs": [],
   "source": [
    "import time\n",
    "import pandas as pd\n",
    "from typing import Callable"
   ]
  },
  {
   "cell_type": "markdown",
   "id": "bc24e77d-4154-4bfb-8a56-b3a180a81643",
   "metadata": {},
   "source": [
    "The first function we will create, called time_taken, is one which runs another function and returns the time it took to do so. As it's inputs, it takes a function, along with the inputs required to run this function. These inputs must be in the form of a dictionary, where the keys correspond to the names of the arguments and the values are the corresponding values of the arguments to pass through to the function. This dictionary is unpacked using the '**' operator so that the arguments can be passed into the function. The reason for creating time_taken to be so general is to improve reusability; a user who wants to time their own function which require an entirely different set of arguments to ours can still use time_take to do so."
   ]
  },
  {
   "cell_type": "code",
   "execution_count": 19,
   "id": "60343a76-3db8-4f87-9d35-ccd95b3fa393",
   "metadata": {},
   "outputs": [],
   "source": [
    "def time_taken(fun: Callable, inputs: dict) -> float:\n",
    "    start = time.perf_counter()\n",
    "    fun(**inputs)\n",
    "    end = time.perf_counter()\n",
    "    return end-start"
   ]
  },
  {
   "cell_type": "markdown",
   "id": "54d55263-ec04-464e-8527-fca4156f04c8",
   "metadata": {},
   "source": [
    "Every time we change the size of the preference tables, we will need new inputs for the functions we are testing. Since we already have a function to produce random preference tables, in order to generate preference tables of a certain size we only need to create a list of names of this size. It is sufficient to use the non-negative integers as names, and since the information regarding men and women is stored seperately, we can use the same names for both men and women. Thus, in order to generate preference tables of size n, we can use the first n non-negative integers for the names of both the men and women. \n",
    "\n",
    "For the is_stable functions, we need to provide a matching. It can be any matching, and so we can produce a matching by marrying the i^th woman to the i^th man for i=0,...,n-1.\n",
    "\n",
    "In order to produce these inputs, we only need to specify the number of men/women. Thus, we can create a function which generates these inputs and collects them in a dictionary for the use of the time_taken function. As we said, this function only needs the number of men/women as it's input."
   ]
  },
  {
   "cell_type": "code",
   "execution_count": 20,
   "id": "971530e3-8645-4c9a-bb52-7c1e04e87bcd",
   "metadata": {},
   "outputs": [],
   "source": [
    "def input_dict(n: int) -> dict:\n",
    "    #generates random preference tables for the men and women, and stores results in the inputs dictionary\n",
    "    inputs = dict(zip((\"men\",\"women\"),rand_pref_tables(range(n),range(n))))\n",
    "    #produces a matching by marrying the first woman to the first man, second woman to the second man, etc., and adds this matching to the inputs dictionary.\n",
    "    inputs[\"matching\"] = list(zip(range(n),range(n)))\n",
    "    return inputs"
   ]
  },
  {
   "cell_type": "markdown",
   "id": "ddc89203-b73d-4880-8e1c-5b91a52d8937",
   "metadata": {},
   "source": [
    "We can now put these two functions together in a third function, which we'll call task_six. The task_six function takes a list of sizes for the inputs, a list of functions to be tested and a seed to be set. It returns a pandas data frame where the columns correspond to the different functions being tested, the rows correspond to the input size, and each cell contains the time it took to run the corresponding function for the corresponding input size. The task_six function is specific to our context, however it could easily be ammended to suit a different context, for example by adding/removing an argument, by changing the iterators or by changing the input_dict function, hence why we used a series of functions to complete this task.\n",
    "\n",
    "In order to improve the reproducibility of the results, the function requires a seed as an argument which will then be set at the start of the function. Since there is no randomness in the functions which are being tested, only in the inputs generated, this should lead to the exact same instructions being executed on exactly the same data for given arguments to the task_six function. Despite this, it is unlikely that one will attain the same results in this way, for there will be small differences in the time it takes a given computer to execute the same code. Thus, while setting a seed can help control the variation, it can't eliminate it."
   ]
  },
  {
   "cell_type": "code",
   "execution_count": 21,
   "id": "cf36ed8e-c636-44db-8e3a-97bf6c5df4a6",
   "metadata": {},
   "outputs": [],
   "source": [
    "def task_six(sizes: list, funs: list, seed: int) -> pd.DataFrame:\n",
    "    random.seed(seed)\n",
    "    data = {fun.__name__:[time_taken(fun,input_dict(n)) for n in sizes] for fun in funs}\n",
    "    return pd.DataFrame(data,index=sizes)        "
   ]
  },
  {
   "cell_type": "markdown",
   "id": "c6a6bf14-051e-4bf5-869e-67a28620289a",
   "metadata": {},
   "source": [
    "We can use the task_six function to test our three functions of interest for a range of input sizes. Since the stable_matchings function uses one of the is_stable functions, we will test which one of these is faster and retrospectively determine which is_stable function will be used by the stable_matchings function."
   ]
  },
  {
   "cell_type": "code",
   "execution_count": 22,
   "id": "8e9a3d50-52a4-4972-aa70-81279ac9a876",
   "metadata": {},
   "outputs": [
    {
     "data": {
      "text/html": [
       "<div>\n",
       "<style scoped>\n",
       "    .dataframe tbody tr th:only-of-type {\n",
       "        vertical-align: middle;\n",
       "    }\n",
       "\n",
       "    .dataframe tbody tr th {\n",
       "        vertical-align: top;\n",
       "    }\n",
       "\n",
       "    .dataframe thead th {\n",
       "        text-align: right;\n",
       "    }\n",
       "</style>\n",
       "<table border=\"1\" class=\"dataframe\">\n",
       "  <thead>\n",
       "    <tr style=\"text-align: right;\">\n",
       "      <th></th>\n",
       "      <th>stable_matchings</th>\n",
       "      <th>is_stable_one</th>\n",
       "      <th>is_stable_two</th>\n",
       "    </tr>\n",
       "  </thead>\n",
       "  <tbody>\n",
       "    <tr>\n",
       "      <th>4</th>\n",
       "      <td>0.000062</td>\n",
       "      <td>0.000008</td>\n",
       "      <td>0.000015</td>\n",
       "    </tr>\n",
       "    <tr>\n",
       "      <th>5</th>\n",
       "      <td>0.000290</td>\n",
       "      <td>0.000006</td>\n",
       "      <td>0.000011</td>\n",
       "    </tr>\n",
       "    <tr>\n",
       "      <th>6</th>\n",
       "      <td>0.002169</td>\n",
       "      <td>0.000005</td>\n",
       "      <td>0.000017</td>\n",
       "    </tr>\n",
       "    <tr>\n",
       "      <th>7</th>\n",
       "      <td>0.024432</td>\n",
       "      <td>0.000002</td>\n",
       "      <td>0.000015</td>\n",
       "    </tr>\n",
       "    <tr>\n",
       "      <th>8</th>\n",
       "      <td>0.223718</td>\n",
       "      <td>0.000002</td>\n",
       "      <td>0.000020</td>\n",
       "    </tr>\n",
       "    <tr>\n",
       "      <th>9</th>\n",
       "      <td>2.088838</td>\n",
       "      <td>0.000003</td>\n",
       "      <td>0.000022</td>\n",
       "    </tr>\n",
       "    <tr>\n",
       "      <th>10</th>\n",
       "      <td>18.719262</td>\n",
       "      <td>0.000002</td>\n",
       "      <td>0.000026</td>\n",
       "    </tr>\n",
       "  </tbody>\n",
       "</table>\n",
       "</div>"
      ],
      "text/plain": [
       "    stable_matchings  is_stable_one  is_stable_two\n",
       "4           0.000062       0.000008       0.000015\n",
       "5           0.000290       0.000006       0.000011\n",
       "6           0.002169       0.000005       0.000017\n",
       "7           0.024432       0.000002       0.000015\n",
       "8           0.223718       0.000002       0.000020\n",
       "9           2.088838       0.000003       0.000022\n",
       "10         18.719262       0.000002       0.000026"
      ]
     },
     "execution_count": 22,
     "metadata": {},
     "output_type": "execute_result"
    }
   ],
   "source": [
    "task_six(range(4,11),[stable_matchings,is_stable_one,is_stable_two],1)"
   ]
  },
  {
   "cell_type": "code",
   "execution_count": 23,
   "id": "e72e8bea-ef80-4144-9a7e-58f8ad839f22",
   "metadata": {},
   "outputs": [
    {
     "data": {
      "text/html": [
       "<div>\n",
       "<style scoped>\n",
       "    .dataframe tbody tr th:only-of-type {\n",
       "        vertical-align: middle;\n",
       "    }\n",
       "\n",
       "    .dataframe tbody tr th {\n",
       "        vertical-align: top;\n",
       "    }\n",
       "\n",
       "    .dataframe thead th {\n",
       "        text-align: right;\n",
       "    }\n",
       "</style>\n",
       "<table border=\"1\" class=\"dataframe\">\n",
       "  <thead>\n",
       "    <tr style=\"text-align: right;\">\n",
       "      <th></th>\n",
       "      <th>is_stable_one</th>\n",
       "      <th>is_stable_two</th>\n",
       "    </tr>\n",
       "  </thead>\n",
       "  <tbody>\n",
       "    <tr>\n",
       "      <th>10</th>\n",
       "      <td>0.000005</td>\n",
       "      <td>0.000039</td>\n",
       "    </tr>\n",
       "    <tr>\n",
       "      <th>100</th>\n",
       "      <td>0.000011</td>\n",
       "      <td>0.002274</td>\n",
       "    </tr>\n",
       "    <tr>\n",
       "      <th>1000</th>\n",
       "      <td>0.000056</td>\n",
       "      <td>2.838564</td>\n",
       "    </tr>\n",
       "  </tbody>\n",
       "</table>\n",
       "</div>"
      ],
      "text/plain": [
       "      is_stable_one  is_stable_two\n",
       "10         0.000005       0.000039\n",
       "100        0.000011       0.002274\n",
       "1000       0.000056       2.838564"
      ]
     },
     "execution_count": 23,
     "metadata": {},
     "output_type": "execute_result"
    }
   ],
   "source": [
    "task_six([10**i for i in range(1,4)],[is_stable_one,is_stable_two],1)"
   ]
  },
  {
   "cell_type": "markdown",
   "id": "6f4aa4ff-38d2-4961-a42e-7e554b056d69",
   "metadata": {},
   "source": [
    "Looking first at the two is_stable functions, we can see that the speed of is_stable one does not appear to change significantly as the input size increases. The is_stable_two function on the other hand exhibits a much more significant decrease in speed as the input size increases. Furthermore, the is_stable_one function always runs faster, especially as the input size increases. While we calculated the same computational complexity for both functions, they were only asymptotic results, and they were only upper bounds, not the exact number of steps each algorihm will perform. For the range of input sizes we used, there appears to be a significant difference, and a difference which makes sense. While the is_stable_two function must compute the lists of preferred partners for every invdividual before checking if any marriages are unstable, the is_stable_one function need only compute the lists as they are needed and can stop once a marriage has been found to be unstable.\n",
    "\n",
    "Looking at the stable_matchings functions, which in this case is using the is_stable_one function, we can first see that it takes much longer to run than the is_stable functions. This is very much expected, as it is performing the is_stable_one function with additional functionality, so it will take longer to run. We can also see that the time taken to run increases significantly as the input size increases; by an order of magnitude for every 1 additional man and woman. In fact, when we attempted to run this function with 11 men and women, the kernel died, presumably because the function took too long to run."
   ]
  },
  {
   "cell_type": "markdown",
   "id": "46714157-f059-4ead-8754-a823bef6c8f5",
   "metadata": {},
   "source": [
    "## <u>Task 7</u>\n",
    "\n",
    "Read lecture 2 of [Stable Marriage and Its Relation to Other Combinatorial Problems](https://ebookcentral.proquest.com/lib/lancaster/detail.action?docID=4908424) up to and including the fourth paragraph on page 12.\n",
    "\n",
    "### Part a)\n",
    "\n",
    "Explain how you could include the \"very undesirable\" imaginary  man introduced on page 9 into your representation of the preference tables.\n",
    "\n",
    "### Part b)\n",
    "\n",
    "Implement the fundamental algorithm described on page 9 as a Python function. Your function should take a (compatible) pair of preference tables as input and produce a (stable) matching as an output. \n",
    "\n",
    "### Part c) \n",
    "\n",
    "Analyse your implementation of the fundamental algorithm with respect to computational complexity making reference to how you employ your chosen python data structures.\n",
    "\n",
    "\n",
    "__Marks__ [23]"
   ]
  },
  {
   "cell_type": "markdown",
   "id": "4764eedd-cfc8-4ea9-a9f3-633768cd113b",
   "metadata": {},
   "source": [
    "## <u>Solution</u>"
   ]
  },
  {
   "cell_type": "markdown",
   "id": "7806d117-cbbb-4394-a1f2-5a9d51379525",
   "metadata": {},
   "source": [
    "### Part a)"
   ]
  },
  {
   "cell_type": "markdown",
   "id": "9a325f7c-0c44-451b-b3ba-ebe06b4f460d",
   "metadata": {},
   "source": [
    "Since we do not know how the men will be named in the preference tables in advance, we cannot use the same name to represent the very undesirable imaginary man, for this name may already refer to a not-so-undersirable and very much real man. Instead, we can take advantage of the knowledge of the data structure used to store the preferences; lists. We know that if we concatenate every name in a preference list, this new name cannot exist in the preference list for if it did, when we concatenate all the elements of the list it would produce an even longer name, which is a contradiction. Furthermore, since all the names in the preference lists for the women are the same, just in a different order, we know that if we concatenate the names of one list, it cannot exist in any of them. Thus, we can do so to create a name for the very undesirable imaginary man. Since we do not know what data-type the names of the men will take in advance, we can convert all the names to strings regardless of their data-type before we concatenate them. For example:"
   ]
  },
  {
   "cell_type": "code",
   "execution_count": 24,
   "id": "6df994ea-14cf-4f0a-95b1-920f213c47bb",
   "metadata": {},
   "outputs": [
    {
     "data": {
      "text/plain": [
       "'ABC'"
      ]
     },
     "execution_count": 24,
     "metadata": {},
     "output_type": "execute_result"
    }
   ],
   "source": [
    "''.join(str(man) for man in [\"A\",\"B\",\"C\"])"
   ]
  },
  {
   "cell_type": "code",
   "execution_count": 25,
   "id": "68885d80-239c-4e75-a6cf-ae438cd5b3b6",
   "metadata": {},
   "outputs": [
    {
     "data": {
      "text/plain": [
       "'012'"
      ]
     },
     "execution_count": 25,
     "metadata": {},
     "output_type": "execute_result"
    }
   ],
   "source": [
    "''.join(str(man) for man in [0,1,2])"
   ]
  },
  {
   "cell_type": "markdown",
   "id": "d7d65fa8-4848-4af3-ac8e-c5dcb04ac393",
   "metadata": {},
   "source": [
    "We can then add this name to the end of every woman's preference list."
   ]
  },
  {
   "cell_type": "markdown",
   "id": "6b6bb119-859c-450b-b91a-64b320b3ff6f",
   "metadata": {},
   "source": [
    "### Part b)"
   ]
  },
  {
   "cell_type": "code",
   "execution_count": 26,
   "id": "5cc7353c-e54e-4103-ac94-505b0a35cd57",
   "metadata": {},
   "outputs": [],
   "source": [
    "from copy import deepcopy"
   ]
  },
  {
   "cell_type": "code",
   "execution_count": 27,
   "id": "678ed193-0d39-4456-a3ef-355bb4cb00fb",
   "metadata": {},
   "outputs": [],
   "source": [
    "def fund_alg(men: dict, women: dict) -> list:\n",
    "    ##adding very undesirable imaginary man to womens' preference lists.\n",
    "    #names of all the men.\n",
    "    m_names = list(men.keys())\n",
    "    #names of all the women.\n",
    "    w_names = list(women.keys())\n",
    "    #concatenates all the names of the men to produce name of very undesirable imaginary man (vuim).\n",
    "    vuim = ''.join(str(man) for man in m_names)\n",
    "    #adds the vuim to the end of the preference list of every woman.\n",
    "    women = {w:women[w] + [vuim] for w in w_names}\n",
    "    #creates a copy of the men dictionary without using references so as not to modify the mens' preference lists globally.\n",
    "    men = deepcopy(men)\n",
    "    \n",
    "    ##algorithm.\n",
    "    #initially marries all women to vuim.\n",
    "    matching = [(vuim,w) for w in w_names]\n",
    "    \n",
    "    n = len(men)\n",
    "    for k in range(n):\n",
    "        #X <- (k+1)-st man.\n",
    "        x_m = m_names[k]\n",
    "        #while X is not the vuim.\n",
    "        while x_m != vuim:\n",
    "            #x <- best remaining choice on X's list.\n",
    "            x_w = men[x_m][0]\n",
    "            #finds current partner of x.\n",
    "            curr_partner = [m for m,w in matching if w==x_w][0]\n",
    "            #if x prefers X to her fiance.\n",
    "            if women[x_w].index(x_m)<women[x_w].index(curr_partner):\n",
    "                #engage X and x.\n",
    "                matching[matching.index((curr_partner,x_w))]=(x_m,x_w)\n",
    "                #X <- preceding fiance of x.\n",
    "                x_m = curr_partner\n",
    "            #if X is not the vuim.\n",
    "            if x_m != vuim:\n",
    "                #withdraw x from X's list.\n",
    "                men[x_m].remove(x_w)\n",
    "\n",
    "    return matching"
   ]
  },
  {
   "cell_type": "markdown",
   "id": "8724cd79-81b7-4b8a-a291-b67c05607306",
   "metadata": {},
   "source": [
    "We can use the preference tables for men and women as defined earlier to test the function."
   ]
  },
  {
   "cell_type": "code",
   "execution_count": 28,
   "id": "9e007418-2f06-4e54-8069-a3d2bd83dcac",
   "metadata": {},
   "outputs": [
    {
     "data": {
      "text/plain": [
       "[('B', 'a'), ('C', 'b'), ('D', 'c'), ('A', 'd')]"
      ]
     },
     "execution_count": 28,
     "metadata": {},
     "output_type": "execute_result"
    }
   ],
   "source": [
    "solution = fund_alg(men,women)\n",
    "solution"
   ]
  },
  {
   "cell_type": "markdown",
   "id": "be067fc9-e349-425c-bfda-021d100be3e9",
   "metadata": {},
   "source": [
    "We can check that this marriage is stable using the is_stable_one function."
   ]
  },
  {
   "cell_type": "code",
   "execution_count": 29,
   "id": "11cf818f-3b7c-4465-9988-009c9f25a518",
   "metadata": {},
   "outputs": [
    {
     "data": {
      "text/plain": [
       "True"
      ]
     },
     "execution_count": 29,
     "metadata": {},
     "output_type": "execute_result"
    }
   ],
   "source": [
    "is_stable_one(men,women,solution)"
   ]
  },
  {
   "cell_type": "markdown",
   "id": "670a0143-7ccd-491d-bba2-136abe3d7c75",
   "metadata": {},
   "source": [
    "### Part c)"
   ]
  },
  {
   "cell_type": "markdown",
   "id": "3c5416ea-4a9c-4bb9-8de1-5c075b007a51",
   "metadata": {},
   "source": [
    "The 'for' loop performs n iterations, and thus is O(n). Sine there are n names to search through, finding the name of the (k+1)-st man is bounded by O(n). With regards to the while loop, the worst-case scenario is that it loops through every man and is thus O(n). Therefore, finding the name of the man and performing the while loop is O(n+n)=O(n). Thus, so far the algorithm is O(n*n)=O(n^2). Within the while loop, searching for the first name on X's list is O(1). Finding the current partner of the man is O(n) are there are n marriages. Next, within the first 'if' statement, there are two index searches. Since the lists being searched through are both of length n, each of these searches is O(n). The second 'if' statement checks if two variables are equal and so is O(1). Thus, within the while loop, the time complexity is O(n+n+n)=O(n). So far, the algorithm is now O(n\\*n^2) = O(n^3). Within the first 'if' statement, the position of a marriage within the matching list needs to be found, and since there are n marriages, this is O(n). Next, this matching must be searched for again so that it can be updated, which is again O(n). Finally, a variable is changed which is O(1). So, within the first 'if' statement, the algorithm is O(n+n+1) = O(n). Putting this all together, the algorithm is O(n\\*n^3) = O(n^4)."
   ]
  },
  {
   "cell_type": "markdown",
   "id": "a4047eeb-ba7a-409b-906b-1b60f3178577",
   "metadata": {},
   "source": [
    "## <u>Task 8</u>\n",
    "\n",
    "Some colleagues wish to use your python code to study a problem that involves solving the Stable Marriage Problem. They represent their preference tables using pandas data frames. Here is how they represent the male preference table from page 1 of [Stable Marriage and Its Relation to Other Combinatorial Problems](https://ebookcentral.proquest.com/lib/lancaster/detail.action?docID=4908424) \n",
    "\n",
    "```python\n",
    "import pandas as pd\n",
    "\n",
    "H_preference_table = pd.DataFrame({\"Anatole\" : [\"cunegonde\",\"brigitte\",\"donatienne\",\"antoinette\"],\n",
    "                                   \"Barnabe\" : [\"brigitte\",\"antoinette\",\"cunegonde\",\"donatienne\"],\n",
    "                                   \"Camille\" : [\"brigitte\",\"donatienne\",\"antoinette\",\"cunegonde\"],\n",
    "                                   \"Dominique\" : [\"cunegonde\",\"antoinette\",\"donatienne\",\"brigitte\"]                              \n",
    "                                })\n",
    "```\n",
    "\n",
    "They also represent matchings using pandas data frames. Here is the way the represent the stable solution given on page 2 of  [Stable Marriage and Its Relation to Other Combinatorial Problems](https://ebookcentral.proquest.com/lib/lancaster/detail.action?docID=4908424)\n",
    "\n",
    "```python\n",
    "matching = pd.DataFrame({\"Men\" : [\"Anatole\",\"Barnabe\",\"Camille\",\"Dominique\"],\n",
    "                         \"Women\" : [\"donatienne\",\"antoinette\",\"brigitte\",\"cunegonde\"]                          \n",
    "                                })\n",
    "```\n",
    "\n",
    "\n",
    "Implement a function which accepts a pair of compatible preference tables and returns a matching using pandas data frames such as those shown above. \n",
    "\n",
    "__Marks__ [10]"
   ]
  },
  {
   "cell_type": "markdown",
   "id": "60a1c444-13f3-4600-ae00-df0094c011d9",
   "metadata": {},
   "source": [
    "## <u>Solution</u>"
   ]
  },
  {
   "cell_type": "markdown",
   "id": "6864fa5a-f7b3-4629-8680-cc53e89f3862",
   "metadata": {},
   "source": [
    "Since our existing function returns a matching when the preference tables are given as dictionaries, we can convert the pandas data frames into dictionaries, feed these dictionaries into the fund_alg function and then convert the output back into a pandas data frame. To convert the pandas data frames into dictionaries, we can use the to_dict function."
   ]
  },
  {
   "cell_type": "code",
   "execution_count": 30,
   "id": "8efbac4c-5993-49b0-bf08-632a62c40609",
   "metadata": {},
   "outputs": [
    {
     "data": {
      "text/html": [
       "<div>\n",
       "<style scoped>\n",
       "    .dataframe tbody tr th:only-of-type {\n",
       "        vertical-align: middle;\n",
       "    }\n",
       "\n",
       "    .dataframe tbody tr th {\n",
       "        vertical-align: top;\n",
       "    }\n",
       "\n",
       "    .dataframe thead th {\n",
       "        text-align: right;\n",
       "    }\n",
       "</style>\n",
       "<table border=\"1\" class=\"dataframe\">\n",
       "  <thead>\n",
       "    <tr style=\"text-align: right;\">\n",
       "      <th></th>\n",
       "      <th>Anatole</th>\n",
       "      <th>Barnabe</th>\n",
       "      <th>Camille</th>\n",
       "      <th>Dominique</th>\n",
       "    </tr>\n",
       "  </thead>\n",
       "  <tbody>\n",
       "    <tr>\n",
       "      <th>0</th>\n",
       "      <td>cunegonde</td>\n",
       "      <td>brigitte</td>\n",
       "      <td>brigitte</td>\n",
       "      <td>cunegonde</td>\n",
       "    </tr>\n",
       "    <tr>\n",
       "      <th>1</th>\n",
       "      <td>brigitte</td>\n",
       "      <td>antoinette</td>\n",
       "      <td>donatienne</td>\n",
       "      <td>antoinette</td>\n",
       "    </tr>\n",
       "    <tr>\n",
       "      <th>2</th>\n",
       "      <td>donatienne</td>\n",
       "      <td>cunegonde</td>\n",
       "      <td>antoinette</td>\n",
       "      <td>donatienne</td>\n",
       "    </tr>\n",
       "    <tr>\n",
       "      <th>3</th>\n",
       "      <td>antoinette</td>\n",
       "      <td>donatienne</td>\n",
       "      <td>cunegonde</td>\n",
       "      <td>brigitte</td>\n",
       "    </tr>\n",
       "  </tbody>\n",
       "</table>\n",
       "</div>"
      ],
      "text/plain": [
       "      Anatole     Barnabe     Camille   Dominique\n",
       "0   cunegonde    brigitte    brigitte   cunegonde\n",
       "1    brigitte  antoinette  donatienne  antoinette\n",
       "2  donatienne   cunegonde  antoinette  donatienne\n",
       "3  antoinette  donatienne   cunegonde    brigitte"
      ]
     },
     "execution_count": 30,
     "metadata": {},
     "output_type": "execute_result"
    }
   ],
   "source": [
    "H_preference_table = pd.DataFrame({\"Anatole\" : [\"cunegonde\",\"brigitte\",\"donatienne\",\"antoinette\"],\n",
    "                                   \"Barnabe\" : [\"brigitte\",\"antoinette\",\"cunegonde\",\"donatienne\"],\n",
    "                                   \"Camille\" : [\"brigitte\",\"donatienne\",\"antoinette\",\"cunegonde\"],\n",
    "                                   \"Dominique\" : [\"cunegonde\",\"antoinette\",\"donatienne\",\"brigitte\"]                              \n",
    "                                })\n",
    "H_preference_table"
   ]
  },
  {
   "cell_type": "code",
   "execution_count": 31,
   "id": "1ef1a36b-f607-4051-b28a-1ffc3e94b7e0",
   "metadata": {},
   "outputs": [
    {
     "data": {
      "text/plain": [
       "{'Anatole': ['cunegonde', 'brigitte', 'donatienne', 'antoinette'],\n",
       " 'Barnabe': ['brigitte', 'antoinette', 'cunegonde', 'donatienne'],\n",
       " 'Camille': ['brigitte', 'donatienne', 'antoinette', 'cunegonde'],\n",
       " 'Dominique': ['cunegonde', 'antoinette', 'donatienne', 'brigitte']}"
      ]
     },
     "execution_count": 31,
     "metadata": {},
     "output_type": "execute_result"
    }
   ],
   "source": [
    "#converts pandas data frame to dictionary\n",
    "H_preference_table.to_dict('list')"
   ]
  },
  {
   "cell_type": "code",
   "execution_count": 32,
   "id": "a756980c-163c-4c35-abbc-64d11d6dccc9",
   "metadata": {},
   "outputs": [],
   "source": [
    "#converts the inputted pandas data frames to dictionaries, inputs these dictionaries in the fund_alg function and turns the output into a pandas data frame, which is then returned.\n",
    "def fund_alg_pd(men_pd: pd.DataFrame, women_pd: pd.DataFrame) -> pd.DataFrame:\n",
    "    return pd.DataFrame(fund_alg(men_pd.to_dict('list'),women_pd.to_dict('list')))"
   ]
  },
  {
   "cell_type": "markdown",
   "id": "64a30bcf-3171-4079-858f-d16c8f6607ec",
   "metadata": {},
   "source": [
    "To test this function, we can extract the names from the example in Task 8, along with the rand_pref_tables function, to create preference tables for the women."
   ]
  },
  {
   "cell_type": "code",
   "execution_count": 33,
   "id": "f4378934-0fa1-4e2e-8592-98ad962a9480",
   "metadata": {},
   "outputs": [
    {
     "data": {
      "text/plain": [
       "['Anatole', 'Barnabe', 'Camille', 'Dominique']"
      ]
     },
     "execution_count": 33,
     "metadata": {},
     "output_type": "execute_result"
    }
   ],
   "source": [
    "m_names_pd = list(H_preference_table.keys())\n",
    "m_names_pd"
   ]
  },
  {
   "cell_type": "code",
   "execution_count": 34,
   "id": "e352cb66-0b88-427e-bed2-be89af485e65",
   "metadata": {},
   "outputs": [
    {
     "data": {
      "text/plain": [
       "['cunegonde', 'brigitte', 'donatienne', 'antoinette']"
      ]
     },
     "execution_count": 34,
     "metadata": {},
     "output_type": "execute_result"
    }
   ],
   "source": [
    "w_names_pd = list(H_preference_table[m_names_pd[0]])\n",
    "w_names_pd"
   ]
  },
  {
   "cell_type": "code",
   "execution_count": 35,
   "id": "f952070f-9a04-4dc7-a25c-5fc762d37636",
   "metadata": {},
   "outputs": [
    {
     "data": {
      "text/html": [
       "<div>\n",
       "<style scoped>\n",
       "    .dataframe tbody tr th:only-of-type {\n",
       "        vertical-align: middle;\n",
       "    }\n",
       "\n",
       "    .dataframe tbody tr th {\n",
       "        vertical-align: top;\n",
       "    }\n",
       "\n",
       "    .dataframe thead th {\n",
       "        text-align: right;\n",
       "    }\n",
       "</style>\n",
       "<table border=\"1\" class=\"dataframe\">\n",
       "  <thead>\n",
       "    <tr style=\"text-align: right;\">\n",
       "      <th></th>\n",
       "      <th>cunegonde</th>\n",
       "      <th>brigitte</th>\n",
       "      <th>donatienne</th>\n",
       "      <th>antoinette</th>\n",
       "    </tr>\n",
       "  </thead>\n",
       "  <tbody>\n",
       "    <tr>\n",
       "      <th>0</th>\n",
       "      <td>Dominique</td>\n",
       "      <td>Camille</td>\n",
       "      <td>Anatole</td>\n",
       "      <td>Anatole</td>\n",
       "    </tr>\n",
       "    <tr>\n",
       "      <th>1</th>\n",
       "      <td>Barnabe</td>\n",
       "      <td>Anatole</td>\n",
       "      <td>Barnabe</td>\n",
       "      <td>Camille</td>\n",
       "    </tr>\n",
       "    <tr>\n",
       "      <th>2</th>\n",
       "      <td>Anatole</td>\n",
       "      <td>Dominique</td>\n",
       "      <td>Dominique</td>\n",
       "      <td>Dominique</td>\n",
       "    </tr>\n",
       "    <tr>\n",
       "      <th>3</th>\n",
       "      <td>Camille</td>\n",
       "      <td>Barnabe</td>\n",
       "      <td>Camille</td>\n",
       "      <td>Barnabe</td>\n",
       "    </tr>\n",
       "  </tbody>\n",
       "</table>\n",
       "</div>"
      ],
      "text/plain": [
       "   cunegonde   brigitte donatienne antoinette\n",
       "0  Dominique    Camille    Anatole    Anatole\n",
       "1    Barnabe    Anatole    Barnabe    Camille\n",
       "2    Anatole  Dominique  Dominique  Dominique\n",
       "3    Camille    Barnabe    Camille    Barnabe"
      ]
     },
     "execution_count": 35,
     "metadata": {},
     "output_type": "execute_result"
    }
   ],
   "source": [
    "random.seed(1)\n",
    "W_preference_table = pd.DataFrame(rand_pref_tables(m_names_pd,w_names_pd)[1])\n",
    "W_preference_table"
   ]
  },
  {
   "cell_type": "code",
   "execution_count": 36,
   "id": "1b321545-14c0-4dcf-98af-066fd57494c4",
   "metadata": {},
   "outputs": [
    {
     "data": {
      "text/html": [
       "<div>\n",
       "<style scoped>\n",
       "    .dataframe tbody tr th:only-of-type {\n",
       "        vertical-align: middle;\n",
       "    }\n",
       "\n",
       "    .dataframe tbody tr th {\n",
       "        vertical-align: top;\n",
       "    }\n",
       "\n",
       "    .dataframe thead th {\n",
       "        text-align: right;\n",
       "    }\n",
       "</style>\n",
       "<table border=\"1\" class=\"dataframe\">\n",
       "  <thead>\n",
       "    <tr style=\"text-align: right;\">\n",
       "      <th></th>\n",
       "      <th>0</th>\n",
       "      <th>1</th>\n",
       "    </tr>\n",
       "  </thead>\n",
       "  <tbody>\n",
       "    <tr>\n",
       "      <th>0</th>\n",
       "      <td>Dominique</td>\n",
       "      <td>cunegonde</td>\n",
       "    </tr>\n",
       "    <tr>\n",
       "      <th>1</th>\n",
       "      <td>Camille</td>\n",
       "      <td>brigitte</td>\n",
       "    </tr>\n",
       "    <tr>\n",
       "      <th>2</th>\n",
       "      <td>Anatole</td>\n",
       "      <td>donatienne</td>\n",
       "    </tr>\n",
       "    <tr>\n",
       "      <th>3</th>\n",
       "      <td>Barnabe</td>\n",
       "      <td>antoinette</td>\n",
       "    </tr>\n",
       "  </tbody>\n",
       "</table>\n",
       "</div>"
      ],
      "text/plain": [
       "           0           1\n",
       "0  Dominique   cunegonde\n",
       "1    Camille    brigitte\n",
       "2    Anatole  donatienne\n",
       "3    Barnabe  antoinette"
      ]
     },
     "execution_count": 36,
     "metadata": {},
     "output_type": "execute_result"
    }
   ],
   "source": [
    "#finds a stable matching\n",
    "sol = fund_alg_pd(H_preference_table,W_preference_table)\n",
    "sol"
   ]
  },
  {
   "cell_type": "markdown",
   "id": "f815b230-0599-400b-a0a0-02ac65fa4243",
   "metadata": {},
   "source": [
    "We can check if this matching is stable by converting it into a list of tuples for use in the is_stable_one function."
   ]
  },
  {
   "cell_type": "code",
   "execution_count": 37,
   "id": "55797d5a-ba68-4e2d-9fb4-4bdda62cacd4",
   "metadata": {},
   "outputs": [
    {
     "data": {
      "text/plain": [
       "[('Dominique', 'cunegonde'),\n",
       " ('Camille', 'brigitte'),\n",
       " ('Anatole', 'donatienne'),\n",
       " ('Barnabe', 'antoinette')]"
      ]
     },
     "execution_count": 37,
     "metadata": {},
     "output_type": "execute_result"
    }
   ],
   "source": [
    "sol_list = [(marriage[0],marriage[1]) for marriage in sol.values]\n",
    "sol_list"
   ]
  },
  {
   "cell_type": "code",
   "execution_count": 38,
   "id": "78a61e71-6029-4beb-ac72-08b5e5aeae47",
   "metadata": {},
   "outputs": [
    {
     "data": {
      "text/plain": [
       "True"
      ]
     },
     "execution_count": 38,
     "metadata": {},
     "output_type": "execute_result"
    }
   ],
   "source": [
    "is_stable_one(H_preference_table.to_dict('list'),W_preference_table.to_dict('list'),sol_list)"
   ]
  },
  {
   "cell_type": "markdown",
   "id": "8affc412-1662-4d35-b13f-4c543e2dba8b",
   "metadata": {},
   "source": [
    "## <u>Task 9</u>\n",
    "\n",
    "Describe how you might use your solution to **Task 4** to create some tests for your python code. Provide some further functions that could be used for testing your code and indicate how they should be used. Which of the 5Rs are improved by adding these tests ?\n",
    "\n",
    "\n",
    "__Marks__ [10]"
   ]
  },
  {
   "cell_type": "markdown",
   "id": "6eca8897-3166-4f51-8ad4-406099714093",
   "metadata": {},
   "source": [
    "## <u>Solution</u>"
   ]
  },
  {
   "cell_type": "markdown",
   "id": "fdc4acc4-7c9e-4cae-8553-905856f3caf5",
   "metadata": {},
   "source": [
    "We can use our function from Task 4 to generate random preference tables for use by the fund_alg function. We can then check if the outputs of the fund_alg function are indeed a stable matchings. In order to improve the reproducibility, we can set a seed before generating the random preference tables so that the same sequence of preference tables will be generated every time the code is run for a given seed. Furthermore, we can improve the repeatability by checking if the fund_alg produces the same matching for given preference tables. In order to improve the reusability, we will check that the function runs in a reasonable amount of time for different input sizes. Finally, we want to create a function to perform these tests so that it is easy to re-run them.\n",
    "\n",
    "In order to decide how to implement this, we will determine what we wish the output to look like. Since we want to test the speed of the fund_alg function for different input sizes, we want a table where each row corresponds to a different input size and one of the columns contains the average time it took the function to execute across all runs for each input size. Since we also want to know if the outputs of the fund_alg function are all stable matchings, we want another column which counts how many of the runs of fund_alg produced a stable matching for each input size. Finally, since we want to check that fund_alg produces the same matching for given preference tables, we want a third column which counts the number of times the fund_alg produced the same matching when the same seed is used.\n",
    "\n",
    "Now that we know what we want our function to output, we can decide how to construct it. We want to test fund_alg for each input size, so we can use a 'for' loop to iterate over those. Then, for each input size, we want to use several different seeds in order to check that fund_alg works for multiple preference tables. We can thus use another 'for' loop to iterate over the number of different seeds we wish to use. Then, for each seed, we want to run fund_alg multiple times to make sure it gives the same output when the same preference table is used. We can thus use another 'for' loop to do so. Finally, since we want these results to be reproducible, as an argument the function can require an initial seed to be used, which can then be incremented by 1 every time we need a new seed. Thus, for the same initial seed we will get the same/similar results (time taken will be different due to computer as mentioned in Task 6). "
   ]
  },
  {
   "cell_type": "code",
   "execution_count": 39,
   "id": "bb3402b1-a086-4a1e-be0b-f880adeb0c68",
   "metadata": {},
   "outputs": [],
   "source": [
    "import numpy as np"
   ]
  },
  {
   "cell_type": "code",
   "execution_count": 75,
   "id": "7e3e8a65-7895-4343-9be5-88cec1558650",
   "metadata": {},
   "outputs": [],
   "source": [
    "def tests(sizes: list, num_seeds: int, reps: int, seed: int) -> pd.DataFrame:\n",
    "    #initialises lists for each of our three metrics, with the length of each list being the number of input sizes to be tested.\n",
    "    correct = same = avg_times [None]*len(sizes)\n",
    "    #iterates over the different input sizes\n",
    "    for count,n in enumerate(sizes):\n",
    "        #for a given input size, initialises counters for the number of stable marriages and number of seeds which produce identical outcomes across the replications.\n",
    "        n_correct = n_same = 0\n",
    "        #for a given input size, initialises a list for the time taken to run fund_alg function for each combination of random seed and replication.\n",
    "        n_times = [None]*num_seeds*reps\n",
    "        #iterates for the number of seeds to be used.\n",
    "        for s in range(num_seeds):\n",
    "            #sets seed and increments it.\n",
    "            random.seed(seed)\n",
    "            seed += 1\n",
    "            #for a given input size and seed, produces a pair of random preference tables.\n",
    "            men,women = rand_pref_tables(range(n),range(n))\n",
    "            #initialises list of outcomes \n",
    "            out_reps = [None]*reps\n",
    "            #iterates for the number of replications given.\n",
    "            for r in range(reps):\n",
    "                #runs fund_alg function on preference tables, stores output and stores how long function took to run.\n",
    "                start = time.perf_counter()\n",
    "                out_reps[r] = fund_alg(men,women)\n",
    "                end = time.perf_counter()\n",
    "                n_times[s*reps+r] = end-start\n",
    "                #checks if output of fund_alg function is indeed a stable marriage.\n",
    "                if is_stable_one(men,women,out_reps[r]):\n",
    "                    n_correct += 1\n",
    "            #for a given input size and seed, checks if all replications produced the same output.\n",
    "            if len(set(tuple(out) for out in out_reps))==1:\n",
    "                n_same += 1\n",
    "        #number of stable marriages produced for a given input size.\n",
    "        correct[count] = n_correct\n",
    "        #number of times the replications were the same for a given input size and seed.\n",
    "        same[count] = n_same\n",
    "        #average time taken to run fund_alg function for a given input size.\n",
    "        avg_times[count] = np.mean(n_times)\n",
    "        \n",
    "    #puts all the metrics into a data frame and returns it as a pandas data frame.\n",
    "    data = dict(zip((f\"Correct (out of {num_seeds*reps})\",f\"Same (out of {num_seeds})\",\"Average time\"),[correct,same,avg_times]))\n",
    "    return pd.DataFrame(data,index=sizes)"
   ]
  },
  {
   "cell_type": "markdown",
   "id": "ccd01200-e5f6-47f7-884a-8568e360e1e8",
   "metadata": {},
   "source": [
    "We can now use this function to test the fund_alg function. For our input sizes, we will use multiples of 100 up to and including 1000. We will use 5 different seeds for each input size and 3 replicatins for each seed. We will set the initial seed to be 1."
   ]
  },
  {
   "cell_type": "code",
   "execution_count": 63,
   "id": "cd9fba2f-ae86-4ad4-8b5f-5cfb9d10a1a0",
   "metadata": {},
   "outputs": [
    {
     "data": {
      "text/html": [
       "<div>\n",
       "<style scoped>\n",
       "    .dataframe tbody tr th:only-of-type {\n",
       "        vertical-align: middle;\n",
       "    }\n",
       "\n",
       "    .dataframe tbody tr th {\n",
       "        vertical-align: top;\n",
       "    }\n",
       "\n",
       "    .dataframe thead th {\n",
       "        text-align: right;\n",
       "    }\n",
       "</style>\n",
       "<table border=\"1\" class=\"dataframe\">\n",
       "  <thead>\n",
       "    <tr style=\"text-align: right;\">\n",
       "      <th></th>\n",
       "      <th>Correct (out of 15)</th>\n",
       "      <th>Same (out of 5)</th>\n",
       "      <th>Average time</th>\n",
       "    </tr>\n",
       "  </thead>\n",
       "  <tbody>\n",
       "    <tr>\n",
       "      <th>100</th>\n",
       "      <td>15</td>\n",
       "      <td>5</td>\n",
       "      <td>0.007479</td>\n",
       "    </tr>\n",
       "    <tr>\n",
       "      <th>200</th>\n",
       "      <td>15</td>\n",
       "      <td>5</td>\n",
       "      <td>0.023976</td>\n",
       "    </tr>\n",
       "    <tr>\n",
       "      <th>300</th>\n",
       "      <td>15</td>\n",
       "      <td>5</td>\n",
       "      <td>0.058398</td>\n",
       "    </tr>\n",
       "    <tr>\n",
       "      <th>400</th>\n",
       "      <td>15</td>\n",
       "      <td>5</td>\n",
       "      <td>0.119896</td>\n",
       "    </tr>\n",
       "    <tr>\n",
       "      <th>500</th>\n",
       "      <td>15</td>\n",
       "      <td>5</td>\n",
       "      <td>0.178329</td>\n",
       "    </tr>\n",
       "    <tr>\n",
       "      <th>600</th>\n",
       "      <td>15</td>\n",
       "      <td>5</td>\n",
       "      <td>0.260974</td>\n",
       "    </tr>\n",
       "    <tr>\n",
       "      <th>700</th>\n",
       "      <td>15</td>\n",
       "      <td>5</td>\n",
       "      <td>0.361761</td>\n",
       "    </tr>\n",
       "    <tr>\n",
       "      <th>800</th>\n",
       "      <td>15</td>\n",
       "      <td>5</td>\n",
       "      <td>0.459993</td>\n",
       "    </tr>\n",
       "    <tr>\n",
       "      <th>900</th>\n",
       "      <td>15</td>\n",
       "      <td>5</td>\n",
       "      <td>0.627525</td>\n",
       "    </tr>\n",
       "    <tr>\n",
       "      <th>1000</th>\n",
       "      <td>15</td>\n",
       "      <td>5</td>\n",
       "      <td>0.788842</td>\n",
       "    </tr>\n",
       "  </tbody>\n",
       "</table>\n",
       "</div>"
      ],
      "text/plain": [
       "      Correct (out of 15)  Same (out of 5)  Average time\n",
       "100                    15                5      0.007479\n",
       "200                    15                5      0.023976\n",
       "300                    15                5      0.058398\n",
       "400                    15                5      0.119896\n",
       "500                    15                5      0.178329\n",
       "600                    15                5      0.260974\n",
       "700                    15                5      0.361761\n",
       "800                    15                5      0.459993\n",
       "900                    15                5      0.627525\n",
       "1000                   15                5      0.788842"
      ]
     },
     "execution_count": 63,
     "metadata": {},
     "output_type": "execute_result"
    }
   ],
   "source": [
    "tests([100*i for i in range(1,11)],5,3,1)"
   ]
  },
  {
   "cell_type": "markdown",
   "id": "766d1bfb-43c2-41b9-903a-4fc05ae9b7b4",
   "metadata": {},
   "source": [
    "We can see from the first column of our results that fund_alg produced a stable matching every time it was run. From the second column we see that for the same preference tables, fund_alg always produced the same matching, thus supporting the repeatability of the function. Finally, from the last column we see that even when there are 1000 men and women, fund_alg takes less than a second to run, which supports the reusability of the function.\n",
    "\n",
    "If a user wants to find out how fund_alg will perform for different input sizes to suit their problem of interest, they can easily do so by changing the arguments passed to the tests function."
   ]
  },
  {
   "cell_type": "markdown",
   "id": "5c388349-ab21-4f6e-b8db-80787d6e7e79",
   "metadata": {},
   "source": [
    "## <u>Task 10</u>\n",
    "\n",
    "Discretionary marks awarded for the overall quality of your code, solutions, reporting and insights, along with any techniques, methods and materials which support the concept of the [5 Rs](https://prezi.com/view/SiZvi92iA2deKRYljZ7u/) and particularly \"pythonesque\" code.   \n",
    "\n",
    "__Marks__ [10]"
   ]
  }
 ],
 "metadata": {
  "kernelspec": {
   "display_name": "Python 3 (ipykernel)",
   "language": "python",
   "name": "python3"
  },
  "language_info": {
   "codemirror_mode": {
    "name": "ipython",
    "version": 3
   },
   "file_extension": ".py",
   "mimetype": "text/x-python",
   "name": "python",
   "nbconvert_exporter": "python",
   "pygments_lexer": "ipython3",
   "version": "3.9.10"
  }
 },
 "nbformat": 4,
 "nbformat_minor": 5
}
